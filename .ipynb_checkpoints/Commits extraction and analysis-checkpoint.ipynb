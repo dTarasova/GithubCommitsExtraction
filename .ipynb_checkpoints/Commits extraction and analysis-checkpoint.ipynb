{
 "cells": [
  {
   "cell_type": "markdown",
   "metadata": {},
   "source": [
    "# Commits extraction and analysis"
   ]
  },
  {
   "cell_type": "markdown",
   "metadata": {},
   "source": [
    "Import libraries"
   ]
  },
  {
   "cell_type": "code",
   "execution_count": null,
   "metadata": {},
   "outputs": [],
   "source": [
    "!conda install -- PyGithub\n",
    "from github import Github"
   ]
  },
  {
   "cell_type": "code",
   "execution_count": null,
   "metadata": {},
   "outputs": [],
   "source": [
    "def key_with_extremum_value(d, type_of_extr):\n",
    "    v=list(d.values())\n",
    "    k=list(d.keys())\n",
    "    if type_of_extr == 'max':\n",
    "        return k[v.index(max(v))]\n",
    "    else:\n",
    "        return k[v.index(min(v))]\n",
    "    \n",
    "def get_latest_commits_from_repo(g, repo_name, count_of_commits = 50):\n",
    "    repo = g.get_repo(repo_name)\n",
    "    commits = repo.get_commits()\n",
    "    commits = commits[0:count_of_commits - 1]\n",
    "    return commits\n",
    "\n",
    "def get_top_committers(commits):\n",
    "    top_committers = {}\n",
    "    for commit in commits:\n",
    "        if commit.committer is not None:\n",
    "            if top_committers.get(commit.committer.login) is None:\n",
    "                top_committers[commit.committer.login] = 0\n",
    "            else:\n",
    "                top_committers[commit.committer.login] += 1\n",
    "\n",
    "    top_committers = sorted(top_committers.items(), key=lambda x: x[1], reverse=True)\n",
    "    \n",
    "    print(\"Top committers: \")\n",
    "    print(top_committers)\n",
    "    return top_committers\n",
    "\n",
    "def get_extr_line_changers(commits):\n",
    "    top_strings_changed = {}\n",
    "    for commit in commits:\n",
    "        count = 0\n",
    "        if commit is not None:\n",
    "        for file in commit.files:\n",
    "            count += file.changes\n",
    "        if commit.committer is not None:\n",
    "            if top_strings_changed.get(commit.committer.login) is None:\n",
    "                top_strings_changed[commit.committer.login] = count\n",
    "            else: \n",
    "                top_strings_changed[commit.committer.login] += count\n",
    "    max_lines_changer = key_with_extremum_value(top_strings_changed, 'max')\n",
    "    min_lines_changer = key_with_extremum_value(top_strings_changed, 'min')\n",
    "    print(\"Person with max count of changed lines: \" + max_lines_changer + \" : \" + str(top_strings_changed[max_lines_changer] ))\n",
    "    print(\"Person with min count of changed lines: \" + min_lines_changer + \" : \" + str(top_strings_changed[min_lines_changer] ))\n",
    "\n",
    "def get_top_files_changed(commits):\n",
    "    top_files_changed = {}\n",
    "    for commit in commits:\n",
    "        count = 0\n",
    "        if commit is not None:\n",
    "            for file in commit.files:\n",
    "                if top_files_changed.get(file.filename) is None:\n",
    "                    top_files_changed[file.filename] = 0\n",
    "                else: \n",
    "                    top_files_changed[file.filename] += 1\n",
    "\n",
    "    top_files_changed = sorted(top_files_changed.items(), key=lambda x: x[1], reverse=True)\n",
    "    print(\"Top files changed: \")\n",
    "    for k, v in top_files_changed:\n",
    "        print(k + \" : \" + str(v))"
   ]
  },
  {
   "cell_type": "code",
   "execution_count": null,
   "metadata": {},
   "outputs": [],
   "source": [
    "def analyze_repo(username, password, repo_name, count_of_commits = 50):\n",
    "    g = Github(username, password)\n",
    "    commits = get_latest_commits_from_repo(g, repo_name, count_of_commits)\n",
    "    get_top_committers(commits)\n",
    "    get_extr_line_changers(commits)\n",
    "    get_extr_files_changed(commits)"
   ]
  },
  {
   "cell_type": "markdown",
   "metadata": {},
   "source": [
    "### Here you have to input your parameters to receive result:"
   ]
  },
  {
   "cell_type": "code",
   "execution_count": 3,
   "metadata": {},
   "outputs": [
    {
     "ename": "NameError",
     "evalue": "name 'USERNAME' is not defined",
     "output_type": "error",
     "traceback": [
      "\u001b[1;31m---------------------------------------------------------------------------\u001b[0m",
      "\u001b[1;31mNameError\u001b[0m                                 Traceback (most recent call last)",
      "\u001b[1;32m<ipython-input-3-10ed12053dbe>\u001b[0m in \u001b[0;36m<module>\u001b[1;34m()\u001b[0m\n\u001b[1;32m----> 1\u001b[1;33m \u001b[0mUSERNAME\u001b[0m \u001b[1;31m# =\u001b[0m\u001b[1;33m\u001b[0m\u001b[0m\n\u001b[0m\u001b[0;32m      2\u001b[0m \u001b[0mPASSWORD\u001b[0m \u001b[1;31m# =\u001b[0m\u001b[1;33m\u001b[0m\u001b[0m\n\u001b[0;32m      3\u001b[0m \u001b[0mNAME_REPO\u001b[0m \u001b[1;31m# =\u001b[0m\u001b[1;33m\u001b[0m\u001b[0m\n\u001b[0;32m      4\u001b[0m \u001b[0manalyze_repo\u001b[0m\u001b[1;33m(\u001b[0m\u001b[0musername\u001b[0m \u001b[1;33m=\u001b[0m \u001b[0mUSERNAME\u001b[0m\u001b[1;33m,\u001b[0m \u001b[0mpassword\u001b[0m \u001b[1;33m=\u001b[0m \u001b[0mPASSWORD\u001b[0m\u001b[1;33m,\u001b[0m \u001b[0mname_repo\u001b[0m \u001b[1;33m=\u001b[0m \u001b[0mNAME_REPO\u001b[0m\u001b[1;33m)\u001b[0m\u001b[1;33m\u001b[0m\u001b[0m\n",
      "\u001b[1;31mNameError\u001b[0m: name 'USERNAME' is not defined"
     ]
    }
   ],
   "source": [
    "USERNAME # = \n",
    "PASSWORD # = \n",
    "NAME_REPO # = \n",
    "analyze_repo(username = USERNAME, password = PASSWORD, name_repo = NAME_REPO)"
   ]
  },
  {
   "cell_type": "code",
   "execution_count": null,
   "metadata": {},
   "outputs": [],
   "source": []
  }
 ],
 "metadata": {
  "kernelspec": {
   "display_name": "Python 3",
   "language": "python",
   "name": "python3"
  },
  "language_info": {
   "codemirror_mode": {
    "name": "ipython",
    "version": 3
   },
   "file_extension": ".py",
   "mimetype": "text/x-python",
   "name": "python",
   "nbconvert_exporter": "python",
   "pygments_lexer": "ipython3",
   "version": "3.6.5"
  }
 },
 "nbformat": 4,
 "nbformat_minor": 2
}
