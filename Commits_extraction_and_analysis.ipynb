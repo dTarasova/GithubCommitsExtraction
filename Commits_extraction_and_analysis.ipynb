{
  "nbformat": 4,
  "nbformat_minor": 0,
  "metadata": {
    "kernelspec": {
      "display_name": "Python 3",
      "language": "python",
      "name": "python3"
    },
    "language_info": {
      "codemirror_mode": {
        "name": "ipython",
        "version": 3
      },
      "file_extension": ".py",
      "mimetype": "text/x-python",
      "name": "python",
      "nbconvert_exporter": "python",
      "pygments_lexer": "ipython3",
      "version": "3.6.5"
    },
    "colab": {
      "name": "Commits extraction and analysis.ipynb",
      "provenance": [],
      "collapsed_sections": []
    }
  },
  "cells": [
    {
      "cell_type": "markdown",
      "metadata": {
        "id": "Hw30aDkVoDWn",
        "colab_type": "text"
      },
      "source": [
        "# Commits extraction and analysis"
      ]
    },
    {
      "cell_type": "markdown",
      "metadata": {
        "id": "pXuetEwqoDWw",
        "colab_type": "text"
      },
      "source": [
        "Import and install libraries"
      ]
    },
    {
      "cell_type": "code",
      "metadata": {
        "id": "oMcW6CrToNXr",
        "colab_type": "code",
        "colab": {
          "base_uri": "https://localhost:8080/",
          "height": 168
        },
        "outputId": "2b78fcac-6793-4df6-8513-f10e61d3bc19"
      },
      "source": [
        "!pip install PyGithub"
      ],
      "execution_count": 53,
      "outputs": [
        {
          "output_type": "stream",
          "text": [
            "Requirement already satisfied: PyGithub in /usr/local/lib/python3.6/dist-packages (1.53)\n",
            "Requirement already satisfied: deprecated in /usr/local/lib/python3.6/dist-packages (from PyGithub) (1.2.10)\n",
            "Requirement already satisfied: pyjwt in /usr/local/lib/python3.6/dist-packages (from PyGithub) (1.7.1)\n",
            "Requirement already satisfied: requests>=2.14.0 in /usr/local/lib/python3.6/dist-packages (from PyGithub) (2.23.0)\n",
            "Requirement already satisfied: wrapt<2,>=1.10 in /usr/local/lib/python3.6/dist-packages (from deprecated->PyGithub) (1.12.1)\n",
            "Requirement already satisfied: certifi>=2017.4.17 in /usr/local/lib/python3.6/dist-packages (from requests>=2.14.0->PyGithub) (2020.6.20)\n",
            "Requirement already satisfied: chardet<4,>=3.0.2 in /usr/local/lib/python3.6/dist-packages (from requests>=2.14.0->PyGithub) (3.0.4)\n",
            "Requirement already satisfied: idna<3,>=2.5 in /usr/local/lib/python3.6/dist-packages (from requests>=2.14.0->PyGithub) (2.10)\n",
            "Requirement already satisfied: urllib3!=1.25.0,!=1.25.1,<1.26,>=1.21.1 in /usr/local/lib/python3.6/dist-packages (from requests>=2.14.0->PyGithub) (1.24.3)\n"
          ],
          "name": "stdout"
        }
      ]
    },
    {
      "cell_type": "code",
      "metadata": {
        "id": "EcEDH4GpoDW1",
        "colab_type": "code",
        "colab": {}
      },
      "source": [
        "from github import Github, ApplicationOAuth\n",
        "import pandas as pd"
      ],
      "execution_count": 54,
      "outputs": []
    },
    {
      "cell_type": "code",
      "metadata": {
        "id": "dpE1NXxYoDXK",
        "colab_type": "code",
        "colab": {}
      },
      "source": [
        "def key_with_extremum_value(d, type_of_extr):\n",
        "    v=list(d.values())\n",
        "    k=list(d.keys())\n",
        "    if type_of_extr == 'max':\n",
        "        return k[v.index(max(v))]\n",
        "    else:\n",
        "        return k[v.index(min(v))]\n",
        "    \n",
        "def get_latest_commits_from_repo(g, repo_name, count_of_commits = 50):\n",
        "    repo = g.get_repo(repo_name)\n",
        "    commits = repo.get_commits()\n",
        "    commits = commits[0:count_of_commits - 1]\n",
        "    return commits\n",
        "\n",
        "def get_top_committers(commits):\n",
        "    top_committers = {}\n",
        "    for commit in commits:\n",
        "        if commit.committer is not None:\n",
        "            if top_committers.get(commit.committer.login) is None:\n",
        "                top_committers[commit.committer.login] = 0\n",
        "            else:\n",
        "                top_committers[commit.committer.login] += 1\n",
        "\n",
        "    top_committers = sorted(top_committers.items(), key=lambda x: x[1], reverse=True)\n",
        "    \n",
        "    print(\"Top committers: \")\n",
        "    print(top_committers)\n",
        "    print()\n",
        "    return top_committers\n",
        "\n",
        "def get_extr_line_changers(commits):\n",
        "    top_strings_changed = {}\n",
        "    for commit in commits:\n",
        "        count = 0\n",
        "        if commit is not None:\n",
        "          for file in commit.files:\n",
        "              count += file.changes\n",
        "          if commit.committer is not None:\n",
        "              if top_strings_changed.get(commit.committer.login) is None:\n",
        "                  top_strings_changed[commit.committer.login] = count\n",
        "              else: \n",
        "                  top_strings_changed[commit.committer.login] += count\n",
        "    max_lines_changer = key_with_extremum_value(top_strings_changed, 'max')\n",
        "    min_lines_changer = key_with_extremum_value(top_strings_changed, 'min')\n",
        "    print(\"Person with max count of changed lines: \" + max_lines_changer + \" : \" + str(top_strings_changed[max_lines_changer] ))\n",
        "    print(\"Person with min count of changed lines: \" + min_lines_changer + \" : \" + str(top_strings_changed[min_lines_changer] ))\n",
        "    print()\n",
        "\n",
        "def get_top_files_changed(commits):\n",
        "    top_files_changed = {}\n",
        "    for commit in commits:\n",
        "        count = 0\n",
        "        if commit is not None:\n",
        "            for file in commit.files:\n",
        "                if top_files_changed.get(file.filename) is None:\n",
        "                    top_files_changed[file.filename] = 0\n",
        "                else: \n",
        "                    top_files_changed[file.filename] += 1\n",
        "\n",
        "    top_files_changed = sorted(top_files_changed.items(), key=lambda x: x[1], reverse=True)\n",
        "    print(\"Top files changed with number of changes: \")\n",
        "    for k, v in top_files_changed:\n",
        "        print(k + \" : \" + str(v))\n",
        "    print()\n",
        "\n",
        "def create_df(commits):\n",
        "  df = pd.DataFrame(columns = [\"Login of committer\", \"FileName\", \"Changes\"])\n",
        "  list_of_series = []\n",
        "  for commit in commits:\n",
        "    for file in commit.files:\n",
        "      if commit.committer is not None:\n",
        "        list_of_series += [pd.Series([commit.committer.login, file.filename, file.patch], index=df.columns)]\n",
        "  df = df.append(list_of_series , ignore_index=True)\n",
        "  return df\n",
        "  "
      ],
      "execution_count": 70,
      "outputs": []
    },
    {
      "cell_type": "code",
      "metadata": {
        "id": "YlS_wrajoDXb",
        "colab_type": "code",
        "colab": {}
      },
      "source": [
        "def analyze_repo(username, password, repo_name, path_to_save_csv = \"Last commits.csv\", count_of_commits = 50):\n",
        "    g = Github(username, password)\n",
        "    commits = get_latest_commits_from_repo(g, repo_name, count_of_commits)\n",
        "    get_top_committers(commits)\n",
        "    get_extr_line_changers(commits)\n",
        "    get_top_files_changed(commits)\n",
        "    df = create_df(commits)\n",
        "    csv=df.to_csv(path_to_save_csv)\n",
        "    return df"
      ],
      "execution_count": 71,
      "outputs": []
    },
    {
      "cell_type": "markdown",
      "metadata": {
        "id": "-WXWBrXkoDXn",
        "colab_type": "text"
      },
      "source": [
        "### Here you have to input your parameters to receive result:"
      ]
    },
    {
      "cell_type": "code",
      "metadata": {
        "id": "rObDcaEioDXp",
        "colab_type": "code",
        "colab": {}
      },
      "source": [
        "USERNAME = \"USERNAME\"\n",
        "PASSWORD = \"PASSWORD\"\n",
        "NAME_REPO = \"NAME_REPO\"\n",
        "PATH_TO_SAVE_CSV = \"Last commits.csv\"\n",
        "COUNT_OF_COMMITS = 50\n",
        "df = analyze_repo( USERNAME, PASSWORD,  NAME_REPO, PATH_TO_SAVE_CSV, COUNT_OF_COMMITS)\n",
        "df.head()"
      ],
      "execution_count": null,
      "outputs": []
    }
  ]
}